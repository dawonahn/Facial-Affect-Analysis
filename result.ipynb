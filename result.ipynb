{
 "cells": [
  {
   "cell_type": "code",
   "execution_count": 1,
   "id": "5895f5b3-2635-4a6f-a03f-ed03875e4b8e",
   "metadata": {},
   "outputs": [
    {
     "name": "stderr",
     "output_type": "stream",
     "text": [
      "/home/rachwork0/miniconda3/envs/project/lib/python3.8/site-packages/tqdm/auto.py:22: TqdmWarning: IProgress not found. Please update jupyter and ipywidgets. See https://ipywidgets.readthedocs.io/en/stable/user_install.html\n",
      "  from .autonotebook import tqdm as notebook_tqdm\n",
      "/home/rachwork0/miniconda3/envs/project/lib/python3.8/site-packages/tltorch/factorized_tensors/core.py:145: UserWarning: Creating a subclass of FactorizedTensor TensorizedTensor with no name.\n",
      "  warnings.warn(f'Creating a subclass of FactorizedTensor {cls.__name__} with no name.')\n"
     ]
    }
   ],
   "source": [
    "from utils import *\n",
    "from metrics import *\n",
    "from preprocess_data import *\n",
    "# from row_resnet2d import resnet18 as myresnet18\n",
    "from proposed_resnet2d import resnet18 as myresnet18\n",
    "from resnet2d import resnet18 as resnet18"
   ]
  },
  {
   "cell_type": "code",
   "execution_count": 2,
   "id": "2aabd56b-ccd3-4399-adc9-796fc6d98130",
   "metadata": {},
   "outputs": [],
   "source": [
    "import torch\n",
    "import matplotlib.pyplot as plt"
   ]
  },
  {
   "cell_type": "code",
   "execution_count": 3,
   "id": "c8f25cff-90df-41e2-b7d9-9aac562e02d0",
   "metadata": {},
   "outputs": [],
   "source": [
    "DEVICE = 'cuda:0'\n",
    "\n",
    "mymodel = torch.load('./result/proposed_model.pth').to(DEVICE)\n",
    "model = torch.load('./result/model.pth').to(DEVICE)"
   ]
  },
  {
   "cell_type": "code",
   "execution_count": 6,
   "id": "b5378731-3166-4044-943d-048216428712",
   "metadata": {},
   "outputs": [
    {
     "name": "stdout",
     "output_type": "stream",
     "text": [
      "Frame: 53 / Labels: 53\n"
     ]
    }
   ],
   "source": [
    "### Sets and clip is indicate a single video clip\n",
    "frames, frame_labels = get_data('./dataset', sets='02', clip='069')\n",
    "\n",
    "print(f\"Frame: {len(frames)} / Labels: {len(frame_labels)}\")"
   ]
  },
  {
   "cell_type": "code",
   "execution_count": 7,
   "id": "76d44e72-d3e0-4046-b1d0-ae7d22d15bc1",
   "metadata": {},
   "outputs": [],
   "source": [
    "my_result = []\n",
    "result = []\n",
    "for frame, labels in zip(frames, frame_labels):\n",
    "    inputs = frame.unsqueeze(0).to(DEVICE)\n",
    "    my_prediction = mymodel(inputs)\n",
    "    my_prediction = my_prediction.cpu().detach()[0][0].numpy().tolist()\n",
    "    \n",
    "    prediction = model(inputs)\n",
    "    prediction = prediction.cpu().detach()[0].numpy().tolist()\n",
    "    my_result.append([my_prediction[0], my_prediction[1], labels[0], labels[1]])\n",
    "    result.append([prediction[0], prediction[1], labels[0], labels[1]])"
   ]
  },
  {
   "cell_type": "code",
   "execution_count": 8,
   "id": "d96d87eb-a994-4e02-99e4-a53050c5d851",
   "metadata": {},
   "outputs": [],
   "source": [
    "my_results = np.array(my_result)\n",
    "results = np.array(result)\n",
    "# results"
   ]
  },
  {
   "cell_type": "code",
   "execution_count": 9,
   "id": "40511f45-2932-4e2f-9b98-64192c054b5e",
   "metadata": {},
   "outputs": [],
   "source": [
    "# plt.figure(figsize=(12, 4))\n",
    "# plt.subplot(1, 2, 1)\n",
    "# plt.plot(my_results[:, 0], label='Prediction')\n",
    "# plt.plot(my_results[:, 2], label='Truth')\n",
    "# plt.title('Arousal')\n",
    "# plt.legend()\n",
    "\n",
    "# plt.subplot(1, 2, 2)\n",
    "# plt.plot(my_results[:, 1], label='Prediction')\n",
    "# plt.plot(my_results[:, 3], label='Truth')\n",
    "# plt.title('Valence')\n",
    "# plt.legend()\n",
    "\n",
    "# plt.figure(figsize=(12, 4))\n",
    "# plt.subplot(1, 2, 1)\n",
    "# plt.plot(results[:, 0], label='Prediction')\n",
    "# plt.plot(results[:, 2], label='Truth')\n",
    "# plt.title('Arousal')\n",
    "# plt.legend()\n",
    "\n",
    "# plt.subplot(1, 2, 2)\n",
    "# plt.plot(results[:, 1], label='Prediction')\n",
    "# plt.plot(results[:, 3], label='Truth')\n",
    "# plt.title('Valence')\n",
    "# plt.legend()"
   ]
  },
  {
   "cell_type": "markdown",
   "id": "44bd36fd-69a2-46cd-9b88-189a1b281d69",
   "metadata": {},
   "source": [
    "# Test results of models"
   ]
  },
  {
   "cell_type": "code",
   "execution_count": 10,
   "id": "0ba47c1a-c16c-4375-85b6-24d6425973b5",
   "metadata": {},
   "outputs": [],
   "source": [
    "batch_size = 256\n",
    "train_idx, valid_idx, test_idx = get_label('./dataset', 11)\n",
    "\n",
    "training_dataloader = DataLoader(AFEWDataset(train_idx), batch_size = batch_size, shuffle=True)\n",
    "validation_dataloader = DataLoader(AFEWDataset(valid_idx), batch_size = batch_size*2)\n",
    "test_dataloader = DataLoader(AFEWDataset(test_idx), batch_size = batch_size*2)"
   ]
  },
  {
   "cell_type": "code",
   "execution_count": 11,
   "id": "68aaefbc-8e46-4605-837f-07b9a5b247c2",
   "metadata": {},
   "outputs": [
    {
     "name": "stdout",
     "output_type": "stream",
     "text": [
      "------------------------------------------------------------\n",
      "2D HO-CPConv (Proposed)\n",
      "------------------------------------------------------------\n",
      "Validation|| Arousal:0.2578 Valence:0.2373\n",
      "Test|| Arousal:0.2110 Valence:0.2518\n"
     ]
    }
   ],
   "source": [
    "_, val_arousal, val_valence = evaluation(validation_dataloader, mymodel, DEVICE)  \n",
    "_, test_arousal, test_valence = evaluation(test_dataloader, mymodel, DEVICE)   \n",
    "\n",
    "print(\"------------------------------------------------------------\")\n",
    "print(\"2D HO-CPConv (Proposed)\")\n",
    "print(\"------------------------------------------------------------\")\n",
    "print(f\"Validation|| Arousal:{val_arousal:.4f} Valence:{val_valence:.4f}\")\n",
    "print(f\"Test|| Arousal:{test_arousal:.4f} Valence:{test_valence:.4f}\")\n"
   ]
  },
  {
   "cell_type": "code",
   "execution_count": null,
   "id": "6f7f46e9-31ca-48b0-a6d3-d6e96d20d45d",
   "metadata": {},
   "outputs": [],
   "source": [
    "_, val_arousal, val_valence = evaluation(validation_dataloader, model, DEVICE)  \n",
    "_, test_arousal, test_valence = evaluation(test_dataloader, model, DEVICE)   \n",
    "\n",
    "print(\"------------------------------------------------------------\")\n",
    "print(\"2D ResNet\")\n",
    "print(\"------------------------------------------------------------\")\n",
    "print(f\"Validation|| Arousal:{val_arousal:.4f} Valence:{val_valence:.4f}\")\n",
    "print(f\"Test|| Arousal:{test_arousal:.4f} Valence:{test_valence:.4f}\")\n"
   ]
  },
  {
   "cell_type": "markdown",
   "id": "782aa59b-daac-4921-8b91-4703b9f20c99",
   "metadata": {},
   "source": [
    "# Functions  "
   ]
  },
  {
   "cell_type": "code",
   "execution_count": 4,
   "id": "161ef1bf-6f71-43d3-9250-706157bf18ec",
   "metadata": {},
   "outputs": [],
   "source": [
    "def evaluation(dataloader, model, DEVICE):\n",
    "    ''' Evaluate the model with validation and test data (for my implementation'''\n",
    "    result = []\n",
    "    with torch.no_grad():\n",
    "        model.eval()\n",
    "        for i, data in enumerate(dataloader):\n",
    "            inputs, labels = data\n",
    "            outputs = model(inputs.to(DEVICE)).reshape(-1, 2)\n",
    "            result.append(torch.hstack([outputs, labels.to(DEVICE)]))\n",
    "       \n",
    "        result = torch.vstack(result)\n",
    "        arousal_rmse = RMSE(result[2], result[0])\n",
    "        valence_rmse = RMSE(result[3], result[1])\n",
    "    \n",
    "    return result, arousal_rmse.item(), valence_rmse.item()\n"
   ]
  },
  {
   "cell_type": "code",
   "execution_count": 5,
   "id": "4f80e196-74f9-4187-bd80-2d56ce9f1eb5",
   "metadata": {},
   "outputs": [],
   "source": [
    "def get_data(root_dir, sets='01', clip='001'):\n",
    "\n",
    "    \n",
    "    single_data = []\n",
    "    single_label = []\n",
    "\n",
    "    videos = [i for i in os.listdir(f'./{root_dir}/{sets}') \n",
    "    if (not i.startswith('.')) and (i!= 'README.md')]\n",
    "    videos.sort()\n",
    "        # Videos\n",
    "    path_to_dataset = f'./dataset/{sets}/{clip}/{clip}.json'\n",
    "    f = open(path_to_dataset)\n",
    "    data = json.load(f)\n",
    "    frame_key = list(data['frames'].keys())\n",
    "            # Frames\n",
    "\n",
    "    tmp_labels = []\n",
    "    for k in frame_key:\n",
    "        img_dir = f'{sets}/{clip}/{k}.png'\n",
    "        arousal = data['frames'][k]['arousal']\n",
    "        valence = data['frames'][k]['valence']\n",
    "        ld_coords = crop_landmark(data['frames'][k]['landmarks'])\n",
    "        if ld_coords is None:\n",
    "            pass\n",
    "        else:\n",
    "            x1, x2, y1, y2 = ld_coords\n",
    "            img_name = os.path.join(root_dir, img_dir)\n",
    "            img = Image.open(img_name)\n",
    "            train_img = transform_test(img)\n",
    "            cropped_img = train_img[:, x1:x2, y1:y2]\n",
    "            single_data.append(cropped_img)\n",
    "            single_label.append([arousal, valence])\n",
    "        \n",
    "    return single_data, single_label\n"
   ]
  }
 ],
 "metadata": {
  "kernelspec": {
   "display_name": "Python 3 (ipykernel)",
   "language": "python",
   "name": "python3"
  },
  "language_info": {
   "codemirror_mode": {
    "name": "ipython",
    "version": 3
   },
   "file_extension": ".py",
   "mimetype": "text/x-python",
   "name": "python",
   "nbconvert_exporter": "python",
   "pygments_lexer": "ipython3",
   "version": "3.8.13"
  }
 },
 "nbformat": 4,
 "nbformat_minor": 5
}
